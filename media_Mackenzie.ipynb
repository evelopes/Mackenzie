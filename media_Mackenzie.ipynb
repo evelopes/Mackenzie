{
  "nbformat": 4,
  "nbformat_minor": 0,
  "metadata": {
    "colab": {
      "name": "media_Mackenzie.ipynb",
      "provenance": [],
      "authorship_tag": "ABX9TyN+e/18m1g2m1XnssRPs51D",
      "include_colab_link": true
    },
    "kernelspec": {
      "name": "python3",
      "display_name": "Python 3"
    },
    "language_info": {
      "name": "python"
    }
  },
  "cells": [
    {
      "cell_type": "markdown",
      "metadata": {
        "id": "view-in-github",
        "colab_type": "text"
      },
      "source": [
        "<a href=\"https://colab.research.google.com/github/evelopes/Mackenzie/blob/main/media_Mackenzie.ipynb\" target=\"_parent\"><img src=\"https://colab.research.google.com/assets/colab-badge.svg\" alt=\"Open In Colab\"/></a>"
      ]
    },
    {
      "cell_type": "markdown",
      "source": [
        "Calculo de nota mínima exigida na Avaliação Intermediária 2, para obter média 6"
      ],
      "metadata": {
        "id": "ZXC0T6QZLAdr"
      }
    },
    {
      "cell_type": "code",
      "source": [
        "av1 = float(input('Avaliação Intermediária 1 : '));\n",
        "qseNI = (av1/2)*6;\n",
        "NM = float(input('Nota do Moodle: '));\n",
        "NI2 = NM *4;\n",
        "NP = float(input('Nota de participação: '));\n",
        "NS = ((qseNI +NI2)/10)+ NP;\n",
        "\n",
        "print('Nota semestral sem Avaliação intermediária 2 será: %.1f' %NS)\n",
        "print('')\n",
        "\n",
        "deuMedia = 6 - NS\n",
        "if NS < 6:\n",
        "  falta = deuMedia / 0.3\n",
        "  if falta > 10:\n",
        "    print(\"Não é possivel fechar o semestre só com a avaliação intermediária 2!\")\n",
        "  else:\n",
        "    print('Nota mínima na AV2 precisa ser: %.1f' %falta)\n",
        "    "
      ],
      "metadata": {
        "id": "pL3jY0Wojjm2",
        "colab": {
          "base_uri": "https://localhost:8080/"
        },
        "outputId": "74bfda98-2d52-4270-9145-3c7b851e1c97"
      },
      "execution_count": 1,
      "outputs": [
        {
          "output_type": "stream",
          "name": "stdout",
          "text": [
            "Avaliação Intermediária 1 : 4\n",
            "Nota do Moodle: 4\n",
            "Nota de participação: 0.5\n",
            "Nota semestral sem Avaliação intermediária 2 será: 3.3\n",
            "\n",
            "Nota mínima na AV2 precisa ser: 9.0\n"
          ]
        }
      ]
    }
  ]
}