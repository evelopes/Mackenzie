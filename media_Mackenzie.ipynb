{
  "nbformat": 4,
  "nbformat_minor": 0,
  "metadata": {
    "colab": {
      "name": "media_Mackenzie.ipynb",
      "provenance": [],
      "include_colab_link": true
    },
    "kernelspec": {
      "name": "python3",
      "display_name": "Python 3"
    },
    "language_info": {
      "name": "python"
    }
  },
  "cells": [
    {
      "cell_type": "markdown",
      "metadata": {
        "id": "view-in-github",
        "colab_type": "text"
      },
      "source": [
        "<a href=\"https://colab.research.google.com/github/evelopes/Mackenzie/blob/main/media_Mackenzie.ipynb\" target=\"_parent\"><img src=\"https://colab.research.google.com/assets/colab-badge.svg\" alt=\"Open In Colab\"/></a>"
      ]
    },
    {
      "cell_type": "markdown",
      "source": [
        "Calculo de nota mínima exigida na Avaliação Intermediária 2, para obter média 6"
      ],
      "metadata": {
        "id": "ZXC0T6QZLAdr"
      }
    },
    {
      "cell_type": "code",
      "source": [
        "import math\n",
        "av1 = float(input('Avaliação Intermediária 1(P1) : '));\n",
        "qseNI = (av1/2)*0.6;\n",
        "NM = float(input('Nota do Moodle(N2): '));\n",
        "NI2 = NM *0.4;\n",
        "NP = float(input('Nota de participação(Partic): '));\n",
        "while(NP > 1):\n",
        "  print('Nota de participação não pode ser superior a 1')\n",
        "  print('Digite a nota de 0.0 até 1.0')\n",
        "  NP = float(input('Nota de participação(Partic): '));\n",
        "NS = (((qseNI +NI2))+ NP);\n",
        "\n",
        "print(f'\\nSua P1 vai somar {qseNI}, na sua nota semestral')\n",
        "print(f'As atividades do Moodle vão somar  %.2f na sua nota semestral' %NI2)\n",
        "print(f'\\nNota semestral sem Avaliação intermediária 2 será:  %.1f ' %NS)\n",
        "\n",
        "\n",
        "print(\"\\n ------------------------\\n\")\n",
        "deuMedia = 6 - NS\n",
        "if NS < 6:\n",
        "  falta = deuMedia / 0.3\n",
        "  if falta > 10:\n",
        "    print('\\nNão é possivel fechar o semestre só com a avaliação intermediária 2!')\n",
        "  else:\n",
        "    print('\\nNota mínima na AV2 precisa ser: %.2f' %falta)\n",
        "else:\n",
        "  print('\\nSua nota semestral atinge a média para passar!')"
      ],
      "metadata": {
        "id": "pL3jY0Wojjm2",
        "colab": {
          "base_uri": "https://localhost:8080/"
        },
        "outputId": "d8e55904-ce6e-4641-df8c-9c3ffac2ceb8"
      },
      "execution_count": 2,
      "outputs": [
        {
          "output_type": "stream",
          "name": "stdout",
          "text": [
            "Avaliação Intermediária 1(P1) : 8\n",
            "Nota do Moodle(N2): 7.1\n",
            "Nota de participação(Partic): 0.7\n",
            "\n",
            "Sua P1 vai somar 2.4, na sua nota semestral\n",
            "As atividades do Moodle vão somar  2.84 na sua nota semestral\n",
            "\n",
            "Nota semestral sem Avaliação intermediária 2 será:  5.9 \n",
            "\n",
            " ------------------------\n",
            "\n",
            "\n",
            "Nota mínima na AV2 precisa ser: 0.20\n"
          ]
        }
      ]
    }
  ]
}